{
 "cells": [
  {
   "cell_type": "code",
   "execution_count": 1,
   "id": "6b49163f",
   "metadata": {},
   "outputs": [],
   "source": [
    "import numpy as np"
   ]
  },
  {
   "cell_type": "code",
   "execution_count": 2,
   "id": "18c5bd17",
   "metadata": {},
   "outputs": [],
   "source": [
    "points = [(3,5),(5,8),(12,15),(8,11)]"
   ]
  },
  {
   "cell_type": "code",
   "execution_count": 3,
   "id": "28d38f33",
   "metadata": {},
   "outputs": [],
   "source": [
    "def euclideanDistance(xy1,xy2):\n",
    "    return (np.sqrt((xy2[0]-xy1[0])**2 + (xy2[1] - xy1[1])**2))\n",
    "    "
   ]
  },
  {
   "cell_type": "code",
   "execution_count": 4,
   "id": "d6b55bb6",
   "metadata": {},
   "outputs": [],
   "source": [
    "distances = []\n",
    "\n",
    "for i in range(len(points)):\n",
    "    for j in range(i + 1, len(points)):\n",
    "        distances.append(euclideanDistance(points[i],points[j]))"
   ]
  },
  {
   "cell_type": "code",
   "execution_count": 5,
   "id": "82f76170",
   "metadata": {},
   "outputs": [
    {
     "name": "stdout",
     "output_type": "stream",
     "text": [
      "points listesindeki her nokta çifti arasındaki Öklid mesafesi: [3.605551275463989, 13.45362404707371, 7.810249675906654, 9.899494936611665, 4.242640687119285, 5.656854249492381]\n"
     ]
    }
   ],
   "source": [
    "print(\"points listesindeki her nokta çifti arasındaki Öklid mesafesi:\",distances)"
   ]
  },
  {
   "cell_type": "code",
   "execution_count": 6,
   "id": "47ce231e",
   "metadata": {},
   "outputs": [
    {
     "name": "stdout",
     "output_type": "stream",
     "text": [
      "distances listesindeki minimum mesafe: 3.605551275463989\n"
     ]
    }
   ],
   "source": [
    "print(\"distances listesindeki minimum mesafe:\",min(distances))"
   ]
  }
 ],
 "metadata": {
  "kernelspec": {
   "display_name": "Python 3 (ipykernel)",
   "language": "python",
   "name": "python3"
  },
  "language_info": {
   "codemirror_mode": {
    "name": "ipython",
    "version": 3
   },
   "file_extension": ".py",
   "mimetype": "text/x-python",
   "name": "python",
   "nbconvert_exporter": "python",
   "pygments_lexer": "ipython3",
   "version": "3.9.12"
  }
 },
 "nbformat": 4,
 "nbformat_minor": 5
}
